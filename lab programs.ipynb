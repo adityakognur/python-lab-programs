{
 "cells": [
  {
   "cell_type": "markdown",
   "id": "d6ef733f",
   "metadata": {},
   "source": [
    "# LIST:\n",
    "1. Read a list of numbers and print the numbers divisible by x but not by y (Assume x =\n",
    "4 and y = 5).\n",
    "2. Read a list of numbers and print the sum of odd integers and even integers from the\n",
    "list.(Ex: [23, 10, 15, 14, 63], odd numbers sum = 101, even numbers sum = 24)\n",
    "3. Read a list of numbers and print numbers present in odd index position. (Ex: [10, 25,\n",
    "30, 47, 56, 84, 96], The numbers in odd index position: 25 47 84).\n",
    "4. Read a list of numbers and remove the duplicate numbers from it. (Ex: Enter a list\n",
    "with duplicate elements: 10 20 40 10 50 30 20 10 80, The unique list is: [10, 20, 30,\n",
    "40, 50, 80])\n"
   ]
  },
  {
   "cell_type": "code",
   "execution_count": 1,
   "id": "edde6d52",
   "metadata": {},
   "outputs": [
    {
     "name": "stdout",
     "output_type": "stream",
     "text": [
      "enter 1:print the numbers divisible by x but not y\n",
      "enter 2:print sum of odd and even integers from the list\n",
      "enter 3:print the numbers present at odd index\n",
      "enter 4:to remove duplicate eliments\n",
      "enter your choice5\n"
     ]
    }
   ],
   "source": [
    "\n",
    "#***************************part A program 3*******************************\n",
    "\n",
    "def division(list):\n",
    "    x=2\n",
    "    y=3\n",
    "    for i in list:\n",
    "        if i%x==0 and i%y!=0:\n",
    "            print(i)\n",
    "\n",
    "def sumFunction(list):\n",
    "    oddSum=0\n",
    "    evenSum=0\n",
    "    for i in list:\n",
    "        if i%2==0:\n",
    "            oddSum+=i\n",
    "        else:\n",
    "            evenSum+=i\n",
    "    print(\"odd sum:\",oddSum)\n",
    "    print(\"even sum:\",evenSum)\n",
    "def display(list):\n",
    "    for i in range(len(list)):\n",
    "        if i%2!=0:\n",
    "            print(list[i])\n",
    "\n",
    "def duplicate(list):\n",
    "    print(set(list))\n",
    "                \n",
    "    \n",
    "\n",
    "print(\"enter 1:print the numbers divisible by x but not y\")\n",
    "print(\"enter 2:print sum of odd and even integers from the list\")\n",
    "print(\"enter 3:print the numbers present at odd index\")\n",
    "print(\"enter 4:to remove duplicate eliments\")\n",
    "\n",
    "while True:\n",
    "    list=[1,2,3,4,5,6,7,7,6,5,4]\n",
    "    choice=int(input(\"enter your choice\"))\n",
    "    if choice==1:\n",
    "        print(list)\n",
    "        division(list)\n",
    "    elif choice==2:\n",
    "        print(list)\n",
    "        sumFunction(list)\n",
    "    elif choice==3:\n",
    "        print(list)\n",
    "        display(list)\n",
    "    elif choice==4:\n",
    "        print(list)\n",
    "        duplicate(list)\n",
    "    else:\n",
    "        break"
   ]
  },
  {
   "cell_type": "markdown",
   "id": "9f004175",
   "metadata": {},
   "source": [
    "# 4 .TUPLES:\n",
    "1. Given a list of tuples. Write a program to find tuples which have all elements\n",
    "divisible by K from a list of tuples. test_list = [(6, 24, 12), (60, 12, 6), (12, 18,\n",
    "21)], K = 6, Output : [(6, 24, 12), (60, 12, 6)]\n",
    "2. Given a list of tuples. Write a program to filter all uppercase characters tuples\n",
    "from given list of tuples. (Input: test_list = [(―GFG‖, ―IS‖, ―BEST‖), (―GFg‖,\n",
    "―AVERAGE‖), (―GfG‖, ), (―Gfg‖, ―CS‖)], Output : [(„GFG‟, „IS‟,„BEST‟)]).\n",
    "3. Given a tuple and a list as input, write a program to count the occurrences of\n",
    "all items of the list in the tuple. (Input : tuple = ('a', 'a', 'c', 'b', 'd'), list = ['a', 'b'],\n",
    "Output : 3)"
   ]
  },
  {
   "cell_type": "code",
   "execution_count": 6,
   "id": "1b8743a9",
   "metadata": {},
   "outputs": [
    {
     "name": "stdout",
     "output_type": "stream",
     "text": [
      "[(6, 24, 12), (60, 12, 6)]\n"
     ]
    }
   ],
   "source": [
    "\n",
    "#***************************part A program 4*******************************\n",
    "\n",
    "tuple=[(6, 24, 12), (60, 12, 6), (12, 18, 21)]\n",
    "ans=[]\n",
    "for i in tuple:\n",
    "    flag=True\n",
    "    for j in i:\n",
    "        if j%6!=0:\n",
    "            flag=False\n",
    "            break\n",
    "    if flag==True:\n",
    "            ans.append(i)\n",
    "print(ans)"
   ]
  },
  {
   "cell_type": "code",
   "execution_count": 14,
   "id": "4413d464",
   "metadata": {},
   "outputs": [
    {
     "name": "stdout",
     "output_type": "stream",
     "text": [
      "[('GFG', 'IS', 'BEST'), ('GFG', 'CS')]\n"
     ]
    }
   ],
   "source": [
    "test_list = [(\"GFG\", \"IS\", \"BEST\"), (\"GfG\", \"AVERAGE\"), (\"GfG\", ), (\"GFG\", \"CS\")]\n",
    "\n",
    "ans=[]\n",
    "for i in test_list:\n",
    "    flag=0\n",
    "    for j in i:\n",
    "        if j.isupper()==False:\n",
    "            flag=1\n",
    "    if flag==0:\n",
    "        ans.append(i)\n",
    "print(ans)\n",
    "        \n",
    "            \n",
    "            \n",
    "\n"
   ]
  },
  {
   "cell_type": "code",
   "execution_count": 18,
   "id": "6407172f",
   "metadata": {},
   "outputs": [
    {
     "name": "stdout",
     "output_type": "stream",
     "text": [
      "a has occured 2 times\n",
      "b has occured 1 times\n"
     ]
    }
   ],
   "source": [
    "list = ['a', 'b']\n",
    "tuple = ('a', 'a', 'c', 'b', 'd')\n",
    "count=0\n",
    "for i in list:\n",
    "    for j in tuple:\n",
    "        if i==j:\n",
    "            count+=1\n",
    "    print(i,\"has occured\",count,\"times\")\n",
    "    count=0;\n",
    "\n",
    "\n"
   ]
  },
  {
   "cell_type": "markdown",
   "id": "f946cdea",
   "metadata": {},
   "source": [
    "# 5. DICTIONARY:\n",
    "1. Write a program to do the following operations:\n",
    "• Create a empty dictionary with dict() method\n",
    "• Add elements one at a time\n",
    "• Update existing key‟s value\n",
    "• Access an element using a key and also get() method\n",
    "• Deleting a key value using del() method\n",
    "2. Write a program to create a dictionary and apply the following methods:\n",
    "• pop() method\n",
    "• popitem() method\n",
    "• clear() method\n",
    "3. Given a dictionary, write a program to find the sum of all items in the\n",
    "dictionary.\n",
    "4. Write a program to merge two dictionaries using update() method."
   ]
  },
  {
   "cell_type": "code",
   "execution_count": 39,
   "id": "fd8a33d0",
   "metadata": {},
   "outputs": [
    {
     "name": "stdout",
     "output_type": "stream",
     "text": [
      "usn : marks\n",
      "1 : 90\n",
      "2 : 100\n",
      "3 : 86\n",
      "{'usn': 'marks', 1: 90, 3: 86}\n"
     ]
    }
   ],
   "source": [
    "\n",
    "#***************************part A program 5(1)*******************************\n",
    "\n",
    "\n",
    "#Create a empty dictionary with dict() method \n",
    "dictionary1=dict()\n",
    "\n",
    "\n",
    "#Add elements one at a time\n",
    "\n",
    "dictionary1['usn']='marks'\n",
    "dictionary1[1]=90\n",
    "dictionary1[2]=89\n",
    "dictionary1[3]=86\n",
    "\n",
    "#Update existing key‟s value \n",
    "\n",
    "dictionary1.update({2:100})\n",
    "\n",
    "\n",
    "\n",
    "#Access an element using a key and also get() method\n",
    "for i in dictionary1:\n",
    "    print(i,\":\",dictionary1.get(i))\n",
    "    \n",
    "    \n",
    "del dictionary1[2]\n",
    "\n",
    "print(dictionary1)"
   ]
  },
  {
   "cell_type": "code",
   "execution_count": 49,
   "id": "65c0778c",
   "metadata": {},
   "outputs": [
    {
     "name": "stdout",
     "output_type": "stream",
     "text": [
      "{'usn': 'marks', 1: 90, 2: 89, 3: 86, 4: 69, 5: 65, 6: 82}\n",
      "{}\n"
     ]
    }
   ],
   "source": [
    "#Create a empty dictionary with dict() method \n",
    "dictionary1=dict()\n",
    "\n",
    "\n",
    "#Add elements one at a time\n",
    "\n",
    "dictionary1['usn']='marks'\n",
    "dictionary1[1]=90\n",
    "dictionary1[2]=89\n",
    "dictionary1[3]=86\n",
    "dictionary1[4]=69\n",
    "dictionary1[5]=65\n",
    "dictionary1[6]=82\n",
    "\n",
    "\n",
    "\n",
    "print(dictionary1)\n",
    "\n",
    "dictionary1.pop(2)#pops the element\n",
    "\n",
    "dictionary1.popitem()# pops the last element\n",
    "\n",
    "dictionary1.clear()#delets all the elements in the dictionary\n",
    "\n",
    "print(dictionary1)"
   ]
  },
  {
   "cell_type": "code",
   "execution_count": 52,
   "id": "cbbf2455",
   "metadata": {},
   "outputs": [
    {
     "name": "stdout",
     "output_type": "stream",
     "text": [
      "sum of all the elements is: 2800\n"
     ]
    }
   ],
   "source": [
    "dictionary=dict()\n",
    "\n",
    "sum=0\n",
    "\n",
    "dictionary[1]=100\n",
    "dictionary[2]=200\n",
    "dictionary[3]=300\n",
    "dictionary[4]=400\n",
    "dictionary[5]=500\n",
    "dictionary[6]=600\n",
    "dictionary[7]=700\n",
    "\n",
    "\n",
    "for i in dictionary:\n",
    "    sum+=dictionary[i]\n",
    "print(\"sum of all the elements is:\",sum)"
   ]
  },
  {
   "cell_type": "code",
   "execution_count": null,
   "id": "326b6680",
   "metadata": {},
   "outputs": [],
   "source": []
  }
 ],
 "metadata": {
  "kernelspec": {
   "display_name": "Python 3 (ipykernel)",
   "language": "python",
   "name": "python3"
  },
  "language_info": {
   "codemirror_mode": {
    "name": "ipython",
    "version": 3
   },
   "file_extension": ".py",
   "mimetype": "text/x-python",
   "name": "python",
   "nbconvert_exporter": "python",
   "pygments_lexer": "ipython3",
   "version": "3.11.5"
  }
 },
 "nbformat": 4,
 "nbformat_minor": 5
}
