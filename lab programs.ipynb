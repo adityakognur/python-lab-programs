{
 "cells": [
  {
   "cell_type": "code",
   "execution_count": null,
   "id": "54903a08",
   "metadata": {},
   "outputs": [],
   "source": [
    "def division(list):\n",
    "    x=2\n",
    "    y=3\n",
    "    for i in list:\n",
    "        if i%x==0 and i%y!=0:\n",
    "            print(i)\n",
    "\n",
    "def sumFunction(list):\n",
    "    oddSum=0\n",
    "    evenSum=0\n",
    "    for i in list:\n",
    "        if i%2==0:\n",
    "            oddSum+=i\n",
    "        else:\n",
    "            evenSum+=i\n",
    "    print(\"odd sum:\",oddSum)\n",
    "    print(\"even sum:\",evenSum)\n",
    "def display(list):\n",
    "    for i in range(len(list)):\n",
    "        if i%2!=0:\n",
    "            print(list[i])\n",
    "                \n",
    "    \n",
    "\n",
    "print(\"enter 1:print the numbers divisible by x but not y\")\n",
    "print(\"enter 2:print sum of odd and even integers from the list\")\n",
    "print(\"enter 3:print the numbers present at odd index\")\n",
    "print(\"enter 4:remove duplicate elements from the list\")\n",
    "while True:\n",
    "    choice=int(input(\"enter your choice\"))\n",
    "    list=[1,2,3,4,5,6,7,7,6,5,4]\n",
    "    if choice==1:\n",
    "        division(list)\n",
    "    elif choice==2:\n",
    "        sumFunction(list)\n",
    "    elif choice==3:\n",
    "        display(list)\n",
    "    elif choice==4:\n",
    "        duplicate(list)\n",
    "    else:\n",
    "        break\n",
    "    \n",
    "\n",
    "    \n",
    "    \n",
    "\n"
   ]
  },
  {
   "cell_type": "code",
   "execution_count": null,
   "id": "edd90b81",
   "metadata": {},
   "outputs": [],
   "source": []
  }
 ],
 "metadata": {
  "kernelspec": {
   "display_name": "Python 3 (ipykernel)",
   "language": "python",
   "name": "python3"
  },
  "language_info": {
   "codemirror_mode": {
    "name": "ipython",
    "version": 3
   },
   "file_extension": ".py",
   "mimetype": "text/x-python",
   "name": "python",
   "nbconvert_exporter": "python",
   "pygments_lexer": "ipython3",
   "version": "3.11.5"
  }
 },
 "nbformat": 4,
 "nbformat_minor": 5
}
